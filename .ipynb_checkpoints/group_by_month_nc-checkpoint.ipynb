{
 "cells": [
  {
   "cell_type": "markdown",
   "id": "5a029d96",
   "metadata": {},
   "source": [
    "#### GROUP NC DATA BY MONTH\n"
   ]
  },
  {
   "cell_type": "code",
   "execution_count": null,
   "id": "cf9c724b",
   "metadata": {},
   "outputs": [],
   "source": [
    "import rioxarray\n",
    "import xarray as xr\n",
    "import pandas as pd\n",
    "import numpy as np\n",
    "path =('C:\\\\Users\\\\mmazzolini\\\\OneDrive - Scientific Network South Tyrol\\\\era5\\\\')\n",
    "file = 'potential_evapotranspiration-19790101_20181231-eusalp-qm_era5.nc'\n",
    "\n",
    "#open the era5 dataset\n",
    "xds= xr.open_dataset(path+file)\n",
    "\n",
    "# resample the dataset on a monthly basis\n",
    "resampled = xds.resample(time='1M').reduce(np.sum)\n",
    "#save it to a new file\n",
    "resampled.to_netcdf(\"resampled_era5/potential_evapotranspiration-19790101_20181231-eusalp-qm_era5_month_sum.nc\")"
   ]
  }
 ],
 "metadata": {
  "kernelspec": {
   "display_name": "Python 3 (ipykernel)",
   "language": "python",
   "name": "python3"
  },
  "language_info": {
   "codemirror_mode": {
    "name": "ipython",
    "version": 3
   },
   "file_extension": ".py",
   "mimetype": "text/x-python",
   "name": "python",
   "nbconvert_exporter": "python",
   "pygments_lexer": "ipython3",
   "version": "3.9.6"
  }
 },
 "nbformat": 4,
 "nbformat_minor": 5
}
