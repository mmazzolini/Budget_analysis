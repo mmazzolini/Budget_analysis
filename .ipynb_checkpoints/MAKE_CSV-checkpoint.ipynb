{
 "cells": [
  {
   "cell_type": "code",
   "execution_count": 1,
   "id": "ce13d047",
   "metadata": {},
   "outputs": [],
   "source": [
    "from monthly_budget_functions import clip_era5, compute_monthly_discharge\n",
    "import ntpath\n",
    "from monthly_budget import \n"
   ]
  },
  {
   "cell_type": "code",
   "execution_count": 2,
   "id": "df9849bc",
   "metadata": {},
   "outputs": [
    {
     "name": "stdout",
     "output_type": "stream",
     "text": [
      "evap file already exists\n",
      "precip file already exists\n"
     ]
    }
   ],
   "source": [
    "########################################\n",
    "#define input and output files:\n",
    "# 1) shapefile with the cathchment area\n",
    "catchment_area_file = r'C:\\Users\\mmazzolini\\OneDrive - Scientific Network South Tyrol\\Documents\\qgis\\final_delineation/ADIGE_BRONZOLO.shp'\n",
    "\n",
    "# 2) era5 dataset precipitation\n",
    "era5file_p = r'C:\\Users\\mmazzolini\\OneDrive - Scientific Network South Tyrol\\era5/1979-2018_pr_qm_uerra-era5_monthly.nc'\n",
    "\n",
    "# 3) era5 dataset evaporation (monthly)\n",
    "era5file_pet = r'C:\\Users\\mmazzolini\\OneDrive - Scientific Network South Tyrol\\Documents\\conda\\resampled_era5\\potential_evapotranspiration-19790101_20181231-eusalp-qm_era5_month_sum.nc'\n",
    "\n",
    "# 4) output:\n",
    "catchment_name=ntpath.basename(catchment_area_file)[:-4]+'.csv'\n",
    "\n",
    "# execute the clipping and monthly aggregation\n",
    "clip_era5(catchment_area_file,era5file_pet,era5file_p,catchment_name)"
   ]
  },
  {
   "cell_type": "code",
   "execution_count": 5,
   "id": "22a3baf2",
   "metadata": {
    "scrolled": true
   },
   "outputs": [],
   "source": [
    "path=r'C:\\Users\\mmazzolini\\OneDrive - Scientific Network South Tyrol\\data_discharge/'\n",
    "filename='Etsch - Branzoll_85550PG_8555QQ0010A_19761231000000_20210721000000.csv'\n",
    "\n",
    "compute_monthly_discharge(path,filename)\n"
   ]
  }
 ],
 "metadata": {
  "kernelspec": {
   "display_name": "Python 3 (ipykernel)",
   "language": "python",
   "name": "python3"
  },
  "language_info": {
   "codemirror_mode": {
    "name": "ipython",
    "version": 3
   },
   "file_extension": ".py",
   "mimetype": "text/x-python",
   "name": "python",
   "nbconvert_exporter": "python",
   "pygments_lexer": "ipython3",
   "version": "3.9.6"
  }
 },
 "nbformat": 4,
 "nbformat_minor": 5
}
